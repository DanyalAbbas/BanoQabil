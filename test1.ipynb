{
 "cells": [
  {
   "cell_type": "markdown",
   "id": "7e29abdc-283a-4680-a00f-38806e1e0e3f",
   "metadata": {},
   "source": [
    "Q1 - Declare and initialize two variables, num1 and num2, with integer values. Calculate and print\n",
    "their sum."
   ]
  },
  {
   "cell_type": "code",
   "execution_count": 3,
   "id": "ff084677-4d6b-4e00-93df-795c2ad5f724",
   "metadata": {},
   "outputs": [
    {
     "name": "stdout",
     "output_type": "stream",
     "text": [
      "69\n"
     ]
    }
   ],
   "source": [
    "num1, num2 = 24, 45\n",
    "add = num1 + num2\n",
    "print(add)"
   ]
  },
  {
   "cell_type": "markdown",
   "id": "bc204ffb-f27e-4e69-aa78-c460c1befe12",
   "metadata": {},
   "source": [
    "Q2 - Create a variable, message, and assign it a string value. Append another string, \" World!\", to it\n",
    "and print the result."
   ]
  },
  {
   "cell_type": "code",
   "execution_count": 4,
   "id": "221f1e41-482f-425c-a4ba-6114f61f9955",
   "metadata": {},
   "outputs": [
    {
     "name": "stdout",
     "output_type": "stream",
     "text": [
      "Hitler World!\n"
     ]
    }
   ],
   "source": [
    "huh = \"Hitler\"\n",
    "print(f\"{huh} World!\") "
   ]
  },
  {
   "cell_type": "markdown",
   "id": "f5db16cf-37c4-478a-bcfc-72f52d774071",
   "metadata": {},
   "source": [
    "Q3 - Define a variable, is_python_fun, and assign it a boolean value. Print a statement based on\n",
    "whether Python is considered fun."
   ]
  },
  {
   "cell_type": "code",
   "execution_count": 5,
   "id": "a8b87c77-c8ff-456a-915c-fb94bfce4dc0",
   "metadata": {},
   "outputs": [
    {
     "name": "stdout",
     "output_type": "stream",
     "text": [
      "Meh, arguable but ok\n"
     ]
    }
   ],
   "source": [
    "is_python_fun = True\n",
    "if is_python_fun:\n",
    "    print(\"Meh, arguable but ok\")\n",
    "else:\n",
    "    print(\"obviously?!\")"
   ]
  },
  {
   "cell_type": "markdown",
   "id": "75036e4c-a603-4fd1-9469-12831dc87487",
   "metadata": {},
   "source": [
    "Q4 - Create a list, fruits, with three different fruit names. Print the list and then add a new fruit to it.\n",
    "Print the updated list."
   ]
  },
  {
   "cell_type": "code",
   "execution_count": 7,
   "id": "1057062a-d252-4b6d-9f6b-d095ed59fafd",
   "metadata": {},
   "outputs": [
    {
     "name": "stdout",
     "output_type": "stream",
     "text": [
      "['apple', 'mango', 'banana']\n",
      "['apple', 'mango', 'banana', \"Buddha's Hand\"]\n"
     ]
    }
   ],
   "source": [
    "fruits = ['apple', 'mango', 'banana']\n",
    "print(fruits)\n",
    "fruits.append(\"Buddha's Hand\")\n",
    "print(fruits)"
   ]
  },
  {
   "cell_type": "markdown",
   "id": "121f914e-37b4-4fdc-9670-a0c19a0ef316",
   "metadata": {},
   "source": [
    "Q5 - Declare a variable, price, with a floating-point value. Convert it to an integer and print both the\n",
    "original and converted values."
   ]
  },
  {
   "cell_type": "code",
   "execution_count": 8,
   "id": "b6c9d96e-27c7-4b37-bcc5-ce2d98f53371",
   "metadata": {},
   "outputs": [
    {
     "name": "stdout",
     "output_type": "stream",
     "text": [
      "The old price was 69.42 and the new price is 69\n"
     ]
    }
   ],
   "source": [
    "price = 69.420\n",
    "new = int(price)\n",
    "print(f\"The old price was {price} and the new price is {new}\")"
   ]
  },
  {
   "cell_type": "markdown",
   "id": "6dbed569-5ce6-45d2-82a3-a69ff506e4e5",
   "metadata": {},
   "source": [
    "Q6 - Create a dictionary, student_info, with keys for 'name', 'age', and 'grade'. Assign corresponding\n",
    "values and print the dictionary."
   ]
  },
  {
   "cell_type": "code",
   "execution_count": 9,
   "id": "69961b26-4887-4385-94b3-bde80f11bd1c",
   "metadata": {},
   "outputs": [
    {
     "name": "stdout",
     "output_type": "stream",
     "text": [
      "{'name': 'Danyal', 'age': 17, 'grade': 'NIL'}\n"
     ]
    }
   ],
   "source": [
    "bio = {\"name\" : \"Danyal\", \"age\" : 17, \"grade\" : \"NIL\"}\n",
    "print(bio)"
   ]
  },
  {
   "cell_type": "markdown",
   "id": "6f97c11f-7de6-48cf-b237-a1fd0fbeab6d",
   "metadata": {},
   "source": [
    "Q7 - Write a program that takes user input for their age and prints a message addressing their age\n",
    "group (e.g., \"Teenager,\" \"Adult\")."
   ]
  },
  {
   "cell_type": "code",
   "execution_count": 10,
   "id": "855c16c2-f72b-4544-9526-51264329432a",
   "metadata": {},
   "outputs": [
    {
     "name": "stdin",
     "output_type": "stream",
     "text": [
      "What is your age:  17\n"
     ]
    },
    {
     "name": "stdout",
     "output_type": "stream",
     "text": [
      "Teenager ho aap?!\n"
     ]
    }
   ],
   "source": [
    "age = int(input(\"What is your age: \"))\n",
    "if age <=12:\n",
    "    print(\"bacha ☝️☝️\")\n",
    "elif age > 13 and age < 18:\n",
    "    print(\"Teenager ho aap?!\")\n",
    "else:\n",
    "    print(\"Budha\")"
   ]
  },
  {
   "cell_type": "markdown",
   "id": "99c8a4bd-cf2d-4669-b0b6-1f7af09ba6e6",
   "metadata": {},
   "source": [
    "Q8 - Define a complex number variable, comp_num, with a real and imaginary part. Print both parts\n",
    "separately."
   ]
  },
  {
   "cell_type": "code",
   "execution_count": 4,
   "id": "2b97dd54-2ff6-4fd1-a97f-6ccc2477635b",
   "metadata": {},
   "outputs": [
    {
     "name": "stdout",
     "output_type": "stream",
     "text": [
      "5.0\n",
      "3.0\n"
     ]
    }
   ],
   "source": [
    "comp_num = complex(5,3)\n",
    "real, img = comp_num.real,comp_num.imag\n",
    "print(real)\n",
    "print(img)"
   ]
  },
  {
   "cell_type": "markdown",
   "id": "6759f7a6-269d-479e-a14e-8a7ae796b26c",
   "metadata": {},
   "source": [
    "Q9 - Combine two strings using string concatenation, and then use string interpolation to include the\n",
    "length of the resulting string in a print statement."
   ]
  },
  {
   "cell_type": "code",
   "execution_count": 17,
   "id": "0bf19acd-55f0-4daf-9edd-da7f28b0da1b",
   "metadata": {},
   "outputs": [
    {
     "name": "stdout",
     "output_type": "stream",
     "text": [
      "soppy valorant and length of them is 14\n"
     ]
    }
   ],
   "source": [
    "var1 = \"soppy\"\n",
    "var2 = \"valorant\"\n",
    "print(f\"{var1} {var2} and length of them is {len(var1) + len(var2) + 1}\")"
   ]
  },
  {
   "cell_type": "markdown",
   "id": "98dc777a-87b3-4f59-a34b-808b1e0f5854",
   "metadata": {},
   "source": [
    "Q10 - Create a tuple, days_of_week, with the names of the days. Access and print the third day of the\n",
    "week."
   ]
  },
  {
   "cell_type": "code",
   "execution_count": 18,
   "id": "de834345-5605-46d6-9561-16e15f3c0887",
   "metadata": {},
   "outputs": [
    {
     "name": "stdout",
     "output_type": "stream",
     "text": [
      "wednesday\n"
     ]
    }
   ],
   "source": [
    "days_of_week = (\"monday\", \"tuesday\", \"wednesday\" , \"thursday\" , \"friday\", \"saturday\", \"sunday\")\n",
    "print(days_of_week[2])"
   ]
  },
  {
   "cell_type": "code",
   "execution_count": null,
   "id": "a51dec2f-9193-421c-8ac5-812142d39555",
   "metadata": {},
   "outputs": [],
   "source": []
  }
 ],
 "metadata": {
  "kernelspec": {
   "display_name": "Python 3 (ipykernel)",
   "language": "python",
   "name": "python3"
  },
  "language_info": {
   "codemirror_mode": {
    "name": "ipython",
    "version": 3
   },
   "file_extension": ".py",
   "mimetype": "text/x-python",
   "name": "python",
   "nbconvert_exporter": "python",
   "pygments_lexer": "ipython3",
   "version": "3.12.0"
  }
 },
 "nbformat": 4,
 "nbformat_minor": 5
}
